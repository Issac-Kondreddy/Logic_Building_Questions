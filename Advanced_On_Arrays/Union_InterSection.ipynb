{
 "cells": [
  {
   "cell_type": "code",
   "id": "initial_id",
   "metadata": {
    "collapsed": true,
    "ExecuteTime": {
     "end_time": "2025-03-25T14:52:10.841742Z",
     "start_time": "2025-03-25T14:52:10.836298Z"
    }
   },
   "source": [
    "def Intersection(arr1, arr2):\n",
    "    n = len(arr1)\n",
    "    m = len(arr2)\n",
    "    i, j = 0,0\n",
    "    intersection_set = set()\n",
    "    while i<n and j<m:\n",
    "        if arr1[i]==arr2[j]:\n",
    "            intersection_set.add(arr1[i])\n",
    "            i += 1\n",
    "            j += 1\n",
    "        elif arr1[i]!=arr2[j] and arr1[i]>arr2[j]:\n",
    "            j += 1\n",
    "        elif arr1[i]!=arr2[j] and arr1[i]<arr2[j]:\n",
    "            i += 1\n",
    "    return sorted(list(intersection_set))\n",
    "arr1 = [5,8,10,12,23,47]\n",
    "arr2 = [2,3,5,8,11,22,47]\n",
    "print(Intersection(arr1,arr2))"
   ],
   "outputs": [
    {
     "name": "stdout",
     "output_type": "stream",
     "text": [
      "[5, 8, 47]\n"
     ]
    }
   ],
   "execution_count": 15
  },
  {
   "metadata": {
    "ExecuteTime": {
     "end_time": "2025-03-25T14:58:12.535416Z",
     "start_time": "2025-03-25T14:58:12.529959Z"
    }
   },
   "cell_type": "code",
   "source": [
    "def union(arr1, arr2):\n",
    "    n = len(arr1)\n",
    "    m = len(arr2)\n",
    "    i, j = 0,0\n",
    "    union = set()\n",
    "    while i<n and j<m:\n",
    "        if arr1[i]!=arr2[j] and arr1[i]<arr2[j]:\n",
    "            union.add(arr1[i])\n",
    "            i += 1\n",
    "        elif arr1[i]!=arr2[j] and arr1[i]>arr2[j]:\n",
    "            union.add(arr2[j])\n",
    "            j += 1\n",
    "        else:\n",
    "            union.add(arr1[i])\n",
    "            i += 1\n",
    "            j += 1\n",
    "    while i < n:\n",
    "        union.add(arr1[i])\n",
    "        i += 1\n",
    "    while j<m:\n",
    "        union.add(arr2[j])\n",
    "        j += 1\n",
    "    return sorted(list(union))\n",
    "arr1 = [5,8,10,12,23,47,53]\n",
    "arr2 = [2,3,5,8,11,22,47]\n",
    "print(union(arr1,arr2))"
   ],
   "id": "2760268a2ce7dbe2",
   "outputs": [
    {
     "name": "stdout",
     "output_type": "stream",
     "text": [
      "[2, 3, 5, 8, 10, 11, 12, 22, 23, 47, 53]\n"
     ]
    }
   ],
   "execution_count": 20
  },
  {
   "metadata": {},
   "cell_type": "code",
   "outputs": [],
   "execution_count": null,
   "source": "",
   "id": "a46598ab4e1c0293"
  }
 ],
 "metadata": {
  "kernelspec": {
   "display_name": "Python 3",
   "language": "python",
   "name": "python3"
  },
  "language_info": {
   "codemirror_mode": {
    "name": "ipython",
    "version": 2
   },
   "file_extension": ".py",
   "mimetype": "text/x-python",
   "name": "python",
   "nbconvert_exporter": "python",
   "pygments_lexer": "ipython2",
   "version": "2.7.6"
  }
 },
 "nbformat": 4,
 "nbformat_minor": 5
}
