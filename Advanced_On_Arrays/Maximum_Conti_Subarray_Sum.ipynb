{
 "cells": [
  {
   "cell_type": "code",
   "id": "initial_id",
   "metadata": {
    "collapsed": true,
    "ExecuteTime": {
     "end_time": "2025-03-25T15:27:37.016356Z",
     "start_time": "2025-03-25T15:27:37.010917Z"
    }
   },
   "source": [
    "def brute_force(arr):\n",
    "    max_sum = float('-inf')\n",
    "    n  = len(arr)\n",
    "    for i in range(n):\n",
    "        for j in range(i, n):\n",
    "            subarray = arr[i:j+1]\n",
    "            sum_subarray = sum(subarray)\n",
    "            if max_sum<sum_subarray:\n",
    "                max_sum = sum_subarray\n",
    "    return max_sum\n",
    "arr = [-2, -3, 4, -1, -2, 1, 5, -3]\n",
    "print(brute_force(arr))"
   ],
   "outputs": [
    {
     "name": "stdout",
     "output_type": "stream",
     "text": [
      "7\n"
     ]
    }
   ],
   "execution_count": 6
  },
  {
   "metadata": {
    "ExecuteTime": {
     "end_time": "2025-03-25T15:37:11.587472Z",
     "start_time": "2025-03-25T15:37:11.576315Z"
    }
   },
   "cell_type": "code",
   "source": [
    "def kadane_algorithm(arr):\n",
    "    max_sum = current_sum = arr[0]\n",
    "    for i in range(1, len(arr)):\n",
    "        current_sum = max(arr[i], current_sum + arr[i])\n",
    "        max_sum = max(max_sum, current_sum)\n",
    "    return max_sum\n",
    "arr = [-2, -3, 4, -1, -2, 1, 5, -3]\n",
    "print(kadane_algorithm(arr))\n"
   ],
   "id": "bb12474bbe857544",
   "outputs": [
    {
     "name": "stdout",
     "output_type": "stream",
     "text": [
      "7\n"
     ]
    }
   ],
   "execution_count": 7
  },
  {
   "metadata": {},
   "cell_type": "code",
   "outputs": [],
   "execution_count": null,
   "source": "",
   "id": "f1d6973bd308f20c"
  }
 ],
 "metadata": {
  "kernelspec": {
   "display_name": "Python 3",
   "language": "python",
   "name": "python3"
  },
  "language_info": {
   "codemirror_mode": {
    "name": "ipython",
    "version": 2
   },
   "file_extension": ".py",
   "mimetype": "text/x-python",
   "name": "python",
   "nbconvert_exporter": "python",
   "pygments_lexer": "ipython2",
   "version": "2.7.6"
  }
 },
 "nbformat": 4,
 "nbformat_minor": 5
}
