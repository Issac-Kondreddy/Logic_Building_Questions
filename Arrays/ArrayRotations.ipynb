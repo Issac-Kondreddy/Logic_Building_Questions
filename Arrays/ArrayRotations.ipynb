{
 "cells": [
  {
   "metadata": {
    "ExecuteTime": {
     "end_time": "2025-03-18T18:12:33.214143Z",
     "start_time": "2025-03-18T18:12:33.203781Z"
    }
   },
   "cell_type": "code",
   "source": [
    "def left_rotate(arr, d):\n",
    "    if d==0:\n",
    "        return arr\n",
    "    n = len(arr)\n",
    "    if n == 0:\n",
    "        return arr\n",
    "    if d>n:\n",
    "        d = d % n\n",
    "    return arr[d:] + arr[:d]\n",
    "\n",
    "# Test Case 1: Basic Rotation\n",
    "arr1 = [1, 2, 3, 4, 5]\n",
    "d1 = 2\n",
    "print(\"Test Case 1:\", left_rotate(arr1, d1))\n",
    "\n",
    "# Test Case 2: Rotation Equal to Array Length\n",
    "arr2 = [1, 2, 3, 4]\n",
    "d2 = 4\n",
    "print(\"Test Case 2:\", left_rotate(arr2, d2))\n",
    "\n",
    "# Test Case 3: Rotation More Than Array Length\n",
    "arr3 = [1, 2, 3, 4]\n",
    "d3 = 6\n",
    "print(\"Test Case 3:\", left_rotate(arr3, d3))\n",
    "\n",
    "# Test Case 4: Zero Rotation\n",
    "arr4 = [1, 2, 3, 4]\n",
    "d4 = 0\n",
    "print(\"Test Case 4:\", left_rotate(arr4, d4))\n",
    "\n",
    "# Test Case 5: Single Element Array\n",
    "arr5 = [1]\n",
    "d5 = 1\n",
    "print(\"Test Case 5:\", left_rotate(arr5, d5))\n",
    "\n",
    "# Test Case 6: Empty Array\n",
    "arr6 = []\n",
    "d6 = 3\n",
    "print(\"Test Case 6:\", left_rotate(arr6, d6))\n",
    "\n",
    "# Test Case 7: Rotation with Large `d`\n",
    "arr7 = [1, 2, 3, 4, 5, 6, 7]\n",
    "d7 = 25\n",
    "print(\"Test Case 7:\", left_rotate(arr7, d7))\n",
    "\n",
    "# Test Case 8: Array with Negative Numbers\n",
    "arr8 = [-1, -2, -3, -4, -5]\n",
    "d8 = 3\n",
    "print(\"Test Case 8:\", left_rotate(arr8, d8))\n"
   ],
   "id": "476c44e2b279daac",
   "outputs": [
    {
     "name": "stdout",
     "output_type": "stream",
     "text": [
      "Test Case 1: [3, 4, 5, 1, 2]\n",
      "Test Case 2: [1, 2, 3, 4]\n",
      "Test Case 3: [3, 4, 1, 2]\n",
      "Test Case 4: [1, 2, 3, 4]\n",
      "Test Case 5: [1]\n",
      "Test Case 6: []\n",
      "Test Case 7: [5, 6, 7, 1, 2, 3, 4]\n",
      "Test Case 8: [-4, -5, -1, -2, -3]\n"
     ]
    }
   ],
   "execution_count": 22
  },
  {
   "metadata": {
    "ExecuteTime": {
     "end_time": "2025-03-18T18:20:32.065955Z",
     "start_time": "2025-03-18T18:20:32.060231Z"
    }
   },
   "cell_type": "code",
   "source": [
    "def right_rotate(arr, d):\n",
    "    if d==0:\n",
    "        return arr\n",
    "    n = len(arr)\n",
    "    if n == 0:\n",
    "        return arr\n",
    "    if d>n:\n",
    "        d = d % n\n",
    "    return arr[-d:] + arr[:d]\n",
    "\n",
    "def test_right_rotate():\n",
    "    assert right_rotate([1, 2, 3, 4, 5], 2) == [4, 5, 1, 2, 3], \"Test 1 Failed\"\n",
    "    assert right_rotate([1, 2, 3, 4], 4) == [1, 2, 3, 4], \"Test 2 Failed\"\n",
    "    assert right_rotate([1, 2, 3, 4], 1) == [4, 1, 2, 3], \"Test 3 Failed\""
   ],
   "id": "a595d2287c20dc53",
   "outputs": [],
   "execution_count": 23
  },
  {
   "metadata": {
    "ExecuteTime": {
     "end_time": "2025-03-18T18:40:10.946824Z",
     "start_time": "2025-03-18T18:40:10.940108Z"
    }
   },
   "cell_type": "code",
   "source": [
    "def leftrotate(arr, d):\n",
    "    n = len(arr)\n",
    "    if n==0:\n",
    "        return arr\n",
    "    d = d % n\n",
    "    if d==0:\n",
    "        return arr\n",
    "    for i in range(d):\n",
    "        leftrotateby1(arr)\n",
    "    return arr\n",
    "def leftrotateby1(arr):\n",
    "    n = len(arr)\n",
    "    temp = arr[0]\n",
    "    for i in range(n-1):\n",
    "        arr[i] = arr[i+1]\n",
    "    arr[n-1] = temp\n",
    "\n",
    "\n",
    "# Test Case 1: Basic Rotation\n",
    "arr1 = [1, 2, 3, 4, 5]\n",
    "d1 = 2\n",
    "print(\"Test Case 1:\", leftrotate(arr1, d1))\n",
    "\n",
    "# Test Case 2: Rotation Equal to Array Length\n",
    "arr2 = [1, 2, 3, 4]\n",
    "d2 = 4\n",
    "print(\"Test Case 2:\", leftrotate(arr2, d2))\n",
    "\n",
    "# Test Case 3: Rotation More Than Array Length\n",
    "arr3 = [1, 2, 3, 4]\n",
    "d3 = 6\n",
    "print(\"Test Case 3:\", leftrotate(arr3, d3))\n",
    "\n",
    "# Test Case 4: Zero Rotation\n",
    "arr4 = [1, 2, 3, 4]\n",
    "d4 = 0\n",
    "print(\"Test Case 4:\", leftrotate(arr4, d4))\n",
    "\n",
    "# Test Case 5: Single Element Array\n",
    "arr5 = [1]\n",
    "d5 = 1\n",
    "print(\"Test Case 5:\", leftrotate(arr5, d5))\n",
    "\n",
    "# Test Case 6: Empty Array\n",
    "arr6 = []\n",
    "d6 = 3\n",
    "print(\"Test Case 6:\", leftrotate(arr6, d6))\n",
    "\n",
    "# Test Case 7: Rotation with Large `d`\n",
    "arr7 = [1, 2, 3, 4, 5, 6, 7]\n",
    "d7 = 25\n",
    "print(\"Test Case 7:\", leftrotate(arr7, d7))\n",
    "\n",
    "# Test Case 8: Array with Negative Numbers\n",
    "arr8 = [-1, -2, -3, -4, -5]\n",
    "d8 = 3\n",
    "print(\"Test Case 8:\", leftrotate(arr8, d8))\n"
   ],
   "id": "2abd537ba8ed8c7c",
   "outputs": [
    {
     "name": "stdout",
     "output_type": "stream",
     "text": [
      "Test Case 1: [3, 4, 5, 1, 2]\n",
      "Test Case 2: [1, 2, 3, 4]\n",
      "Test Case 3: [3, 4, 1, 2]\n",
      "Test Case 4: [1, 2, 3, 4]\n",
      "Test Case 5: [1]\n",
      "Test Case 6: []\n",
      "Test Case 7: [5, 6, 7, 1, 2, 3, 4]\n",
      "Test Case 8: [-4, -5, -1, -2, -3]\n"
     ]
    }
   ],
   "execution_count": 25
  },
  {
   "metadata": {
    "ExecuteTime": {
     "end_time": "2025-03-18T18:43:26.268168Z",
     "start_time": "2025-03-18T18:43:26.260175Z"
    }
   },
   "cell_type": "code",
   "source": [
    "def rightrotate(arr, d):\n",
    "    n = len(arr)\n",
    "    if n==0:\n",
    "        return arr\n",
    "    d = d % n\n",
    "    if d==0:\n",
    "        return arr\n",
    "    for i in range(d):\n",
    "        rightrotateby1(arr)\n",
    "    return arr\n",
    "def rightrotateby1(arr):\n",
    "    n = len(arr)\n",
    "    temp = arr[n-1]\n",
    "    for i in range(n-1,-1, -1):\n",
    "        arr[i] = arr[i-1]\n",
    "    arr[0] = temp\n",
    "\n",
    "\n",
    "# Test Case 1: Basic Rotation\n",
    "arr1 = [1, 2, 3, 4, 5]\n",
    "d1 = 2\n",
    "print(\"Test Case 1:\", rightrotate(arr1, d1))\n",
    "\n",
    "# Test Case 2: Rotation Equal to Array Length\n",
    "arr2 = [1, 2, 3, 4]\n",
    "d2 = 4\n",
    "print(\"Test Case 2:\",  rightrotate(arr2, d2))\n",
    "\n",
    "# Test Case 3: Rotation More Than Array Length\n",
    "arr3 = [1, 2, 3, 4]\n",
    "d3 = 6\n",
    "print(\"Test Case 3:\",  rightrotate(arr3, d3))\n",
    "\n",
    "# Test Case 4: Zero Rotation\n",
    "arr4 = [1, 2, 3, 4]\n",
    "d4 = 0\n",
    "print(\"Test Case 4:\",  rightrotate(arr4, d4))\n",
    "\n",
    "# Test Case 5: Single Element Array\n",
    "arr5 = [1]\n",
    "d5 = 1\n",
    "print(\"Test Case 5:\",  rightrotate(arr5, d5))\n",
    "\n",
    "# Test Case 6: Empty Array\n",
    "arr6 = []\n",
    "d6 = 3\n",
    "print(\"Test Case 6:\",  rightrotate(arr6, d6))\n",
    "\n",
    "# Test Case 7: Rotation with Large `d`\n",
    "arr7 = [1, 2, 3, 4, 5, 6, 7]\n",
    "d7 = 25\n",
    "print(\"Test Case 7:\",  rightrotate(arr7, d7))\n",
    "\n",
    "# Test Case 8: Array with Negative Numbers\n",
    "arr8 = [-1, -2, -3, -4, -5]\n",
    "d8 = 3\n",
    "print(\"Test Case 8:\",  rightrotate(arr8, d8))\n"
   ],
   "id": "80a2fdf187d2ac95",
   "outputs": [
    {
     "name": "stdout",
     "output_type": "stream",
     "text": [
      "Test Case 1: [4, 5, 1, 2, 3]\n",
      "Test Case 2: [1, 2, 3, 4]\n",
      "Test Case 3: [3, 4, 1, 2]\n",
      "Test Case 4: [1, 2, 3, 4]\n",
      "Test Case 5: [1]\n",
      "Test Case 6: []\n",
      "Test Case 7: [4, 5, 6, 7, 1, 2, 3]\n",
      "Test Case 8: [-3, -4, -5, -1, -2]\n"
     ]
    }
   ],
   "execution_count": 27
  },
  {
   "metadata": {},
   "cell_type": "code",
   "outputs": [],
   "execution_count": null,
   "source": "",
   "id": "f953e00dd7d76b9c"
  }
 ],
 "metadata": {
  "kernelspec": {
   "display_name": "Python 3",
   "language": "python",
   "name": "python3"
  },
  "language_info": {
   "codemirror_mode": {
    "name": "ipython",
    "version": 2
   },
   "file_extension": ".py",
   "mimetype": "text/x-python",
   "name": "python",
   "nbconvert_exporter": "python",
   "pygments_lexer": "ipython2",
   "version": "2.7.6"
  }
 },
 "nbformat": 4,
 "nbformat_minor": 5
}
